{
 "cells": [
  {
   "cell_type": "code",
   "execution_count": 1,
   "id": "70e764cd",
   "metadata": {},
   "outputs": [
    {
     "name": "stderr",
     "output_type": "stream",
     "text": [
      "/usr/local/lib/python3.10/site-packages/tqdm/auto.py:21: TqdmWarning: IProgress not found. Please update jupyter and ipywidgets. See https://ipywidgets.readthedocs.io/en/stable/user_install.html\n",
      "  from .autonotebook import tqdm as notebook_tqdm\n"
     ]
    }
   ],
   "source": [
    "import os\n",
    "import sys\n",
    "import numpy as np\n",
    "import pandas as pd\n",
    "import torch\n",
    "from trainer import Trainer\n",
    "from easydict import EasyDict\n",
    "from model.meta import PoolFormer\n",
    "from dataloader import DisDataset\n",
    "from torch.utils.data import DataLoader\n",
    "from tqdm import tqdm\n",
    "from sklearn.metrics import accuracy_score, f1_score"
   ]
  },
  {
   "cell_type": "code",
   "execution_count": 2,
   "id": "d2f86b27",
   "metadata": {},
   "outputs": [],
   "source": [
    "test_df = pd.read_csv(r\"test_df.csv\")\n",
    "save_path = os.getcwd()\n",
    "device = torch.device(\"cuda:0\" if torch.cuda.is_available() else \"cpu\") "
   ]
  },
  {
   "cell_type": "code",
   "execution_count": 14,
   "id": "a1d04236",
   "metadata": {},
   "outputs": [],
   "source": [
    "args = EasyDict(\n",
    "    {\n",
    "     # Path settings\n",
    "     'test_dir':'testset',\n",
    "     'test_df':test_df,\n",
    "     \n",
    "     # Model parameter settings\n",
    "     'CODER':'poolformer_m36',\n",
    "     'drop_path_rate':0.2,\n",
    "     'model_class': PoolFormer,\n",
    "     'weight':None,\n",
    "     'pretrained':r'save_model/model_poolformer_m36_1_0.0195.pth',\n",
    "     \n",
    "     # Training parameter settings\n",
    "     ## Base Parameter\n",
    "     'img_size':224,\n",
    "     'test_size':224,\n",
    "     'BATCH_SIZE':100,\n",
    "     'Dataset' : DisDataset,\n",
    "\n",
    "\n",
    "     # Hardware settings\n",
    "     'multi_gpu':False,\n",
    "     'seed':42,\n",
    "     'device':device,\n",
    "\n",
    "    })"
   ]
  },
  {
   "cell_type": "code",
   "execution_count": 4,
   "id": "bf72ea47",
   "metadata": {},
   "outputs": [],
   "source": [
    "def get_model(model, pretrained=False):\n",
    "    mdl = torch.nn.DataParallel(model(args)) if args.multi_gpu else model(args)\n",
    "    if not pretrained:\n",
    "        return mdl\n",
    "    else:\n",
    "        print(\"기학습 웨이트\")\n",
    "        mdl.load_state_dict(torch.load(pretrained))\n",
    "        return mdl"
   ]
  },
  {
   "cell_type": "code",
   "execution_count": 15,
   "id": "3daaf8bc",
   "metadata": {},
   "outputs": [
    {
     "name": "stdout",
     "output_type": "stream",
     "text": [
      "기학습 웨이트\n"
     ]
    }
   ],
   "source": [
    "# test dataset 정의\n",
    "test_dataset = args.Dataset(args.test_dir, args.test_df, mode='test')\n",
    "        \n",
    "test_data_loader = DataLoader(\n",
    "    test_dataset,\n",
    "    batch_size = int(args.BATCH_SIZE / 2),\n",
    "    shuffle = False,\n",
    ")\n",
    "\n",
    "# model 불러오기\n",
    "model = get_model(model=args.model_class, pretrained=args.pretrained)\n",
    "model.to(device)\n",
    "model.eval()\n",
    "\n",
    "# eval\n",
    "preds = []\n",
    "for batch_idx, batch_data in enumerate(test_data_loader):\n",
    "    images = batch_data['image'].to(device)\n",
    "    with torch.no_grad():\n",
    "        dis_out  = model(images) \n",
    "        dis_out = torch.argmax(dis_out, dim=1).detach().cpu()\n",
    "        preds.extend(dis_out.numpy())"
   ]
  },
  {
   "cell_type": "code",
   "execution_count": 16,
   "id": "dfc6f9ce",
   "metadata": {},
   "outputs": [
    {
     "data": {
      "text/html": [
       "<div>\n",
       "<style scoped>\n",
       "    .dataframe tbody tr th:only-of-type {\n",
       "        vertical-align: middle;\n",
       "    }\n",
       "\n",
       "    .dataframe tbody tr th {\n",
       "        vertical-align: top;\n",
       "    }\n",
       "\n",
       "    .dataframe thead th {\n",
       "        text-align: right;\n",
       "    }\n",
       "</style>\n",
       "<table border=\"1\" class=\"dataframe\">\n",
       "  <thead>\n",
       "    <tr style=\"text-align: right;\">\n",
       "      <th></th>\n",
       "      <th>predict</th>\n",
       "    </tr>\n",
       "  </thead>\n",
       "  <tbody>\n",
       "    <tr>\n",
       "      <th>0</th>\n",
       "      <td>0</td>\n",
       "    </tr>\n",
       "    <tr>\n",
       "      <th>1</th>\n",
       "      <td>0</td>\n",
       "    </tr>\n",
       "    <tr>\n",
       "      <th>2</th>\n",
       "      <td>0</td>\n",
       "    </tr>\n",
       "    <tr>\n",
       "      <th>3</th>\n",
       "      <td>0</td>\n",
       "    </tr>\n",
       "    <tr>\n",
       "      <th>4</th>\n",
       "      <td>0</td>\n",
       "    </tr>\n",
       "  </tbody>\n",
       "</table>\n",
       "</div>"
      ],
      "text/plain": [
       "   predict\n",
       "0        0\n",
       "1        0\n",
       "2        0\n",
       "3        0\n",
       "4        0"
      ]
     },
     "execution_count": 16,
     "metadata": {},
     "output_type": "execute_result"
    }
   ],
   "source": [
    "submit_df = pd.DataFrame({\"predict\":preds})\n",
    "submit_df.head()"
   ]
  },
  {
   "cell_type": "code",
   "execution_count": null,
   "id": "cd0388ef",
   "metadata": {},
   "outputs": [],
   "source": []
  }
 ],
 "metadata": {
  "kernelspec": {
   "display_name": "Python 3",
   "language": "python",
   "name": "python3"
  },
  "language_info": {
   "codemirror_mode": {
    "name": "ipython",
    "version": 3
   },
   "file_extension": ".py",
   "mimetype": "text/x-python",
   "name": "python",
   "nbconvert_exporter": "python",
   "pygments_lexer": "ipython3",
   "version": "3.10.10"
  }
 },
 "nbformat": 4,
 "nbformat_minor": 5
}
