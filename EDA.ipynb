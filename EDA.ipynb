{
 "cells": [
  {
   "cell_type": "code",
   "execution_count": 2,
   "id": "0482f79d",
   "metadata": {},
   "outputs": [],
   "source": [
    "import os\n",
    "import numpy as np\n",
    "import pandas as pd\n",
    "from glob import glob\n",
    "import zipfile\n",
    "import json\n",
    "from tqdm import tqdm\n",
    "from PIL import Image"
   ]
  },
  {
   "cell_type": "code",
   "execution_count": 5,
   "id": "9359caf3",
   "metadata": {},
   "outputs": [],
   "source": [
    "root = 'E:\\노지 작물 질병 진단 이미지'\n",
    "train_dir = 'E:\\\\노지 작물 질병 진단 이미지\\\\Training'\n",
    "test_dir = 'E:\\\\노지 작물 질병 진단 이미지\\\\Validation'"
   ]
  },
  {
   "cell_type": "code",
   "execution_count": null,
   "id": "d8719424",
   "metadata": {},
   "outputs": [],
   "source": [
    "### meta data 만들기"
   ]
  },
  {
   "cell_type": "code",
   "execution_count": 114,
   "id": "a216014c",
   "metadata": {},
   "outputs": [],
   "source": [
    "## image, label unzip\n",
    "\n",
    "# train\n",
    "for path in glob(os.path.join(root,train_dir) + '/*'):\n",
    "    with zipfile.ZipFile(path, 'r') as zip_ref:\n",
    "        if path.split(\"\\\\\")[-1][1:3] == '라벨':\n",
    "            zip_ref.extractall(os.path.join(root,train_dir) + '/' + 'label')\n",
    "        else:\n",
    "            zip_ref.extractall(os.path.join(root,train_dir) + '/' + 'image')\n",
    "\n",
    "# test\n",
    "for path in glob(os.path.join(root,test_dir) + '/*'):\n",
    "    with zipfile.ZipFile(path, 'r') as zip_ref:\n",
    "        if path.split(\"\\\\\")[-1][1:3] == '라벨':\n",
    "            zip_ref.extractall(os.path.join(root,test_dir) + '/' + 'label')\n",
    "        else:\n",
    "            zip_ref.extractall(os.path.join(root,test_dir) + '/' + 'image')"
   ]
  },
  {
   "cell_type": "code",
   "execution_count": 115,
   "id": "2ba80e9b",
   "metadata": {},
   "outputs": [],
   "source": [
    "train_labels = glob(os.path.join(root,train_dir) + '\\label' + '\\*.json')\n",
    "train_images = glob(os.path.join(root,train_dir) + '\\image' + '\\*.jpg')\n",
    "\n",
    "test_labels = glob(os.path.join(root,test_dir) + '\\label' + '\\*.json')\n",
    "test_images = glob(os.path.join(root,test_dir) + '\\image' + '\\*.jpg')"
   ]
  },
  {
   "cell_type": "code",
   "execution_count": 117,
   "id": "de4064db",
   "metadata": {},
   "outputs": [],
   "source": [
    "# train df\n",
    "image_paths,date,worker,height,width = [], [], [], [], []\n",
    "task,types,region = [], [], []\n",
    "disease,crop,area,grow,risk = [], [], [], [], []\n",
    "xl,yl,xr,yr = [], [], [], []\n",
    "for path in train_labels:\n",
    "    with open(path, 'r') as f:\n",
    "        data = json.load(f)\n",
    "        if os.path.exists(os.path.join(root, train_dir) + '\\\\image' + '\\\\' + data['description']['image']):\n",
    "            image_paths.append(data['description']['image']); date.append(data['description']['date']);worker.append(data['description']['worker'])\n",
    "            height.append(data['description']['height']); width.append(data['description']['width'])\n",
    "            task.append(data['description']['task']); types.append(data['description']['type'])\n",
    "            region.append(data['description']['region']); disease.append(data['annotations']['disease'])\n",
    "            \n",
    "            crop.append(data['annotations']['crop']); area.append(data['annotations']['area'])\n",
    "            grow.append(data['annotations']['grow']); risk.append(data['annotations']['risk'])\n",
    "            \n",
    "            x, y, z, f = data['annotations']['points'][0].values()\n",
    "            xl.append(x); yl.append(y)\n",
    "            xr.append(z); yr.append(f)\n",
    "        else:\n",
    "            print(\"not image file\")\n",
    "            print(f\"path : {path}\")\n",
    "\n",
    "train_df = pd.DataFrame({'path':image_paths,\n",
    "                        'date':date,\n",
    "                        'worker':worker,\n",
    "                        'height':height,\n",
    "                        'width':width,\n",
    "                        'task':task,\n",
    "                        'types':types,\n",
    "                        'region':region,\n",
    "                        'disease':disease,\n",
    "                        'crop':crop,\n",
    "                        'area':area,\n",
    "                        'grow':grow,\n",
    "                        'risk':risk,\n",
    "                        'xl':xl,\n",
    "                        'yl':yl,\n",
    "                        'xr':xr,\n",
    "                        'yr':yr})\n",
    "\n",
    "# test df\n",
    "image_paths,date,worker,height,width = [], [], [], [], []\n",
    "task,types,region = [], [], []\n",
    "disease,crop,area,grow,risk = [], [], [], [], []\n",
    "xl,yl,xr,yr = [], [], [], []\n",
    "for path in test_labels:\n",
    "    with open(path, 'r') as f:\n",
    "        data = json.load(f)\n",
    "        if os.path.exists(os.path.join(root, test_dir) + '\\\\image' + '\\\\' + data['description']['image']):\n",
    "            image_paths.append(data['description']['image']); date.append(data['description']['date']);worker.append(data['description']['worker'])\n",
    "            height.append(data['description']['height']); width.append(data['description']['width'])\n",
    "            task.append(data['description']['task']); types.append(data['description']['type'])\n",
    "            region.append(data['description']['region']); disease.append(data['annotations']['disease'])\n",
    "            \n",
    "            crop.append(data['annotations']['crop']); area.append(data['annotations']['area'])\n",
    "            grow.append(data['annotations']['grow']); risk.append(data['annotations']['risk'])\n",
    "            \n",
    "            x, y, z, f = data['annotations']['points'][0].values()\n",
    "            xl.append(x); yl.append(y)\n",
    "            xr.append(z); yr.append(f)\n",
    "        else:\n",
    "            print(\"not image file\")\n",
    "            print(f\"path : {path}\")\n",
    "\n",
    "test_df = pd.DataFrame({'path':image_paths,\n",
    "                        'date':date,\n",
    "                        'worker':worker,\n",
    "                        'height':height,\n",
    "                        'width':width,\n",
    "                        'task':task,\n",
    "                        'types':types,\n",
    "                        'region':region,\n",
    "                        'disease':disease,\n",
    "                        'crop':crop,\n",
    "                        'area':area,\n",
    "                        'grow':grow,\n",
    "                        'risk':risk,\n",
    "                        'xl':xl,\n",
    "                        'yl':yl,\n",
    "                        'xr':xr,\n",
    "                        'yr':yr})"
   ]
  },
  {
   "cell_type": "code",
   "execution_count": null,
   "id": "d2483d5c",
   "metadata": {},
   "outputs": [],
   "source": [
    "### train, valid data 생성"
   ]
  },
  {
   "cell_type": "code",
   "execution_count": 102,
   "id": "b86792d7",
   "metadata": {},
   "outputs": [],
   "source": [
    "from sklearn.model_selection import train_test_split\n",
    "sub_train_df, sub_valid_df = train_test_split(train_df, test_size=0.1, stratify=train_df.disease)"
   ]
  },
  {
   "cell_type": "code",
   "execution_count": 119,
   "id": "631fd94d",
   "metadata": {},
   "outputs": [],
   "source": [
    "train_df.to_csv(root + '\\\\meta_df.csv', index=False)\n",
    "sub_train_df.to_csv(root + '\\\\train_df.csv', index=False)\n",
    "sub_valid_df.to_csv(root + '\\\\valid_df.csv', index=False)\n",
    "test_df.to_csv(root + '\\\\test_df.csv', index=False)"
   ]
  }
 ],
 "metadata": {
  "kernelspec": {
   "display_name": "Python 3 (ipykernel)",
   "language": "python",
   "name": "python3"
  },
  "language_info": {
   "codemirror_mode": {
    "name": "ipython",
    "version": 3
   },
   "file_extension": ".py",
   "mimetype": "text/x-python",
   "name": "python",
   "nbconvert_exporter": "python",
   "pygments_lexer": "ipython3",
   "version": "3.8.12"
  }
 },
 "nbformat": 4,
 "nbformat_minor": 5
}
