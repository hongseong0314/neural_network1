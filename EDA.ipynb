{
 "cells": [
  {
   "cell_type": "code",
   "execution_count": 1,
   "id": "513a10e5",
   "metadata": {},
   "outputs": [],
   "source": [
    "import os\n",
    "import numpy as np\n",
    "import pandas as pd\n",
    "from glob import glob\n",
    "import zipfile\n",
    "import json\n",
    "from tqdm import tqdm\n",
    "from PIL import Image"
   ]
  },
  {
   "cell_type": "code",
   "execution_count": 2,
   "id": "657e1125",
   "metadata": {},
   "outputs": [],
   "source": [
    "root = 'E:\\노지 작물 질병 진단 이미지'\n",
    "train_dir = 'E:\\\\노지 작물 질병 진단 이미지\\\\Training'\n",
    "test_dir = 'E:\\\\노지 작물 질병 진단 이미지\\\\Validation'"
   ]
  },
  {
   "cell_type": "code",
   "execution_count": 4,
   "id": "866917ce",
   "metadata": {},
   "outputs": [],
   "source": [
    "sub_train_df = pd.read_csv(root + '\\\\train_df.csv')\n",
    "sub_valid_df = pd.read_csv(root + '\\\\valid_df.csv')\n",
    "test_df = pd.read_csv(root + '\\\\test_df.csv')"
   ]
  },
  {
   "cell_type": "code",
   "execution_count": 22,
   "id": "782a960c",
   "metadata": {},
   "outputs": [
    {
     "name": "stdout",
     "output_type": "stream",
     "text": [
      "train data size : 120272\n",
      "valid data size : 13364\n",
      "test data size: 16701\n"
     ]
    }
   ],
   "source": [
    "print(f\"train data size : {len(sub_train_df)}\")\n",
    "print(f\"valid data size : {len(sub_valid_df)}\")\n",
    "print(f\"test data size: {len(test_df)}\")"
   ]
  },
  {
   "cell_type": "code",
   "execution_count": 23,
   "id": "eae04949",
   "metadata": {},
   "outputs": [
    {
     "data": {
      "text/plain": [
       "150337"
      ]
     },
     "execution_count": 23,
     "metadata": {},
     "output_type": "execute_result"
    }
   ],
   "source": [
    "len(sub_train_df) +len(sub_valid_df) + len(test_df)"
   ]
  }
 ],
 "metadata": {
  "kernelspec": {
   "display_name": "torch",
   "language": "python",
   "name": "torch"
  },
  "language_info": {
   "codemirror_mode": {
    "name": "ipython",
    "version": 3
   },
   "file_extension": ".py",
   "mimetype": "text/x-python",
   "name": "python",
   "nbconvert_exporter": "python",
   "pygments_lexer": "ipython3",
   "version": "3.8.12"
  }
 },
 "nbformat": 4,
 "nbformat_minor": 5
}
